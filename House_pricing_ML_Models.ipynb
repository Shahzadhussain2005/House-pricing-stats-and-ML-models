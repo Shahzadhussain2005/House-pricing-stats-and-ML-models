{
 "cells": [
  {
   "cell_type": "code",
   "execution_count": 13,
   "id": "d035eafd-6140-431c-9194-a0bdc6c2757e",
   "metadata": {},
   "outputs": [],
   "source": [
    "import pandas as pd;\n",
    "import numpy as np;\n",
    "import seaborn as sns\n",
    "import matplotlib.pyplot as plt\n",
    "from sklearn.linear_model import LinearRegression"
   ]
  },
  {
   "cell_type": "markdown",
   "id": "05420e31-ab4c-4292-bc37-4f1fb3bf7b13",
   "metadata": {},
   "source": [
    "IMPORTING DATASET"
   ]
  },
  {
   "cell_type": "code",
   "execution_count": null,
   "id": "83c0877a-6faa-43ab-acc8-4d46f971d7f3",
   "metadata": {},
   "outputs": [],
   "source": [
    "filepath='https://cf-courses-data.s3.us.cloud-object-storage.appdomain.cloud/IBMDeveloperSkillsNetwork-DA0101EN-SkillsNetwork/labs/FinalModule_Coursera/data/kc_house_data_NaN.csv'\n",
    "df = pd.read_csv(filepath, header=None)"
   ]
  },
  {
   "cell_type": "code",
   "execution_count": null,
   "id": "34d5049a-88a0-4d5a-bf53-dda918477157",
   "metadata": {},
   "outputs": [],
   "source": [
    "df.head()"
   ]
  },
  {
   "cell_type": "code",
   "execution_count": null,
   "id": "10474560-5754-4d38-827c-9f9b1abbb8bc",
   "metadata": {},
   "outputs": [],
   "source": [
    "df.dtypes #displaying the types od each column in dataset"
   ]
  },
  {
   "cell_type": "code",
   "execution_count": null,
   "id": "023227ac-1010-4097-95e5-f55af4ad5e34",
   "metadata": {},
   "outputs": [],
   "source": []
  }
 ],
 "metadata": {
  "kernelspec": {
   "display_name": "Python 3 (ipykernel)",
   "language": "python",
   "name": "python3"
  },
  "language_info": {
   "codemirror_mode": {
    "name": "ipython",
    "version": 3
   },
   "file_extension": ".py",
   "mimetype": "text/x-python",
   "name": "python",
   "nbconvert_exporter": "python",
   "pygments_lexer": "ipython3",
   "version": "3.13.2"
  }
 },
 "nbformat": 4,
 "nbformat_minor": 5
}
